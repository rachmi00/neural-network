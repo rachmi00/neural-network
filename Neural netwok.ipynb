{
 "cells": [
  {
   "cell_type": "code",
   "execution_count": 8,
   "metadata": {},
   "outputs": [],
   "source": [
    " class neuralNetwork:\n",
    "    def __init__(self, inputnodes, hiddennodes, outputnodes, learningrate):\n",
    "        # number of nodes in each layer\n",
    "        self.inodes = inputnodes\n",
    "        self.hnodes = hiddennodes\n",
    "        self.onodes = outputnodes\n",
    "\n",
    "        #learning rate \n",
    "        self.lr = learningrate\n",
    "        pass\n",
    "    def train():\n",
    "        pass\n",
    "    def query():\n",
    "        pass\n",
    "    "
   ]
  },
  {
   "cell_type": "code",
   "execution_count": 9,
   "metadata": {},
   "outputs": [],
   "source": [
    "input_nodes = 3\n",
    "hidden_nodes = 3\n",
    "output_nodes = 3\n",
    "\n",
    "#learning rate \n",
    "learning_rate = 0.3\n",
    "n = neuralNetwork(input_nodes, hidden_nodes, output_nodes, learning_rate)"
   ]
  },
  {
   "cell_type": "code",
   "execution_count": 10,
   "metadata": {},
   "outputs": [
    {
     "data": {
      "text/plain": [
       "array([[ 0.48330831,  0.28058528,  0.29631851],\n",
       "       [ 0.32461427, -0.06182669, -0.08732707],\n",
       "       [-0.40374671,  0.08985069,  0.09397683]])"
      ]
     },
     "execution_count": 10,
     "metadata": {},
     "output_type": "execute_result"
    }
   ],
   "source": [
    "import numpy\n",
    "numpy.random.rand(3,3)-0.5"
   ]
  },
  {
   "cell_type": "code",
   "execution_count": 13,
   "metadata": {},
   "outputs": [
    {
     "ename": "NameError",
     "evalue": "name 'self' is not defined",
     "output_type": "error",
     "traceback": [
      "\u001b[1;31m---------------------------------------------------------------------------\u001b[0m",
      "\u001b[1;31mNameError\u001b[0m                                 Traceback (most recent call last)",
      "Cell \u001b[1;32mIn[13], line 6\u001b[0m\n\u001b[0;32m      1\u001b[0m \u001b[38;5;66;03m#weights inside arrays are w_i_j, where link is from i to j in next layer\u001b[39;00m\n\u001b[0;32m      2\u001b[0m \u001b[38;5;66;03m#w11 w21\u001b[39;00m\n\u001b[0;32m      3\u001b[0m \u001b[38;5;66;03m#w12 w22 etc\u001b[39;00m\n\u001b[0;32m      4\u001b[0m \u001b[38;5;66;03m# self.wih = (numpy.random.rand(self.hnodes, self.inodes)-0.5)\u001b[39;00m\n\u001b[0;32m      5\u001b[0m \u001b[38;5;66;03m# self.who =(numpy.random.rand(self.onodes, self.onodes)-0.5)\u001b[39;00m\n\u001b[1;32m----> 6\u001b[0m \u001b[38;5;28mself\u001b[39m\u001b[38;5;241m.\u001b[39mwih \u001b[38;5;241m=\u001b[39m numpy\u001b[38;5;241m.\u001b[39mrandom\u001b[38;5;241m.\u001b[39mnormal(\u001b[38;5;241m0.0\u001b[39m, \u001b[38;5;28mpow\u001b[39m(\u001b[38;5;28;43mself\u001b[39;49m\u001b[38;5;241m.\u001b[39mhnodes, \u001b[38;5;241m-\u001b[39m\u001b[38;5;241m0.5\u001b[39m), (\u001b[38;5;28mself\u001b[39m\u001b[38;5;241m.\u001b[39mhnodes, \u001b[38;5;28mself\u001b[39m\u001b[38;5;241m.\u001b[39minodes))\n\u001b[0;32m      7\u001b[0m \u001b[38;5;28mself\u001b[39m\u001b[38;5;241m.\u001b[39mwho \u001b[38;5;241m=\u001b[39m numpy\u001b[38;5;241m.\u001b[39mrandom\u001b[38;5;241m.\u001b[39mnormal(\u001b[38;5;241m0.0\u001b[39m, \u001b[38;5;28mpow\u001b[39m(\u001b[38;5;28mself\u001b[39m\u001b[38;5;241m.\u001b[39monodes, \u001b[38;5;241m-\u001b[39m\u001b[38;5;241m0.5\u001b[39m), (\u001b[38;5;28mself\u001b[39m\u001b[38;5;241m.\u001b[39monodes, \u001b[38;5;28mself\u001b[39m\u001b[38;5;241m.\u001b[39mhnodes))\n\u001b[0;32m      9\u001b[0m hidden_inputs \u001b[38;5;241m=\u001b[39m numpy\u001b[38;5;241m.\u001b[39mdot(\u001b[38;5;28mself\u001b[39m\u001b[38;5;241m.\u001b[39mwih, inputs)\n",
      "\u001b[1;31mNameError\u001b[0m: name 'self' is not defined"
     ]
    }
   ],
   "source": [
    "#weights inside arrays are w_i_j, where link is from i to j in next layer\n",
    "#w11 w21\n",
    "#w12 w22 etc\n",
    "# self.wih = (numpy.random.rand(self.hnodes, self.inodes)-0.5)\n",
    "# self.who =(numpy.random.rand(self.onodes, self.onodes)-0.5)\n",
    "self.wih = numpy.random.normal(0.0, pow(self.hnodes, -0.5), (self.hnodes, self.inodes))\n",
    "self.who = numpy.random.normal(0.0, pow(self.onodes, -0.5), (self.onodes, self.hnodes))\n",
    "\n",
    "hidden_inputs = numpy.dot(self.wih, inputs)"
   ]
  },
  {
   "cell_type": "code",
   "execution_count": 18,
   "metadata": {},
   "outputs": [],
   "source": [
    "import numpy\n",
    "import scipy\n",
    "class neuralNetwork:\n",
    "    def __init__(self, inputnodes, hiddennodes, outputnodes, learningrate):\n",
    "        self.inodes = inputnodes\n",
    "        self.hnodes = hiddennodes\n",
    "        self.onodes = outputnodes\n",
    "\n",
    "        #link weight matrices, wih and who\n",
    "        #weights inside arrays are w_i_j, where link is from i to j in next layer\n",
    "        #w11 w21\n",
    "        #w12 w22 etc\n",
    "        self.wih = numpy.random.normal(0.0, pow(self.hnodes, -0.5), (self.hnodes, self.inodes))\n",
    "        self.who = numpy.random.normal(0.0, pow(self.onodes, -0.5), (self.onodes, self.hnodes))\n",
    "        #learning rate\n",
    "        self.lr = learningrate\n",
    "        #activation function is the sigmoid function\n",
    "        self.activation_function = lambda x: scipy.special.expit(x)\n",
    "        pass\n",
    "    def train(self, inputs_list, targets_list):\n",
    "        #convert inputs list to 2darray\n",
    "        inputs = numpy.array(inputs_list, ndmin=2).T\n",
    "        #calculate signals into hidden layer\n",
    "        hidden_inputs = numpy.dot(self.wih, inputs)\n",
    "        #calculate signals emerging from hidden layer\n",
    "        hidden_outputs = self.activation_function(hidden_inputs)\n",
    "\n",
    "        #calculate signlas into final output layer\n",
    "        final_inputs = numpy.dot(self.who, hidden_outputs)\n",
    "        #calculate signals emerging from final output layer\n",
    "        final_outputs = self.activation_function(final_inputs)\n",
    "\n",
    "        #output layer error(target- actual)\n",
    "        ouput_errors = targets - final_outputs\n",
    "        #hidden layer error is the output_erroe, split by weights and recombined at hidden nodes\n",
    "        hidden_errors = numpy.dot(self.who.T, output_errors)\n",
    "\n",
    "        #update the weights for the links between the hidden and output layers\n",
    "        self.who += self.lr*numpy.dot((output_errors * final_outputs *(1- final_outputs)), numpy.transpose(hidden_outputs))\n",
    "\n",
    "        #update weights for link between input and hidden layers\n",
    "        self.who += self.lr*numpy.dot((hidden_errors*hidden_outputs * (1-hidden_outputs)), numpy.transpose(inputs))\n",
    "        pass\n",
    "    def query(self, inputs_list):\n",
    "        #convert inputs list to 2d array\n",
    "        inputs = numpy.array(inputs_list, ndmin=2).T\n",
    "\n",
    "        #calculate signals into hidden layer\n",
    "        hidden_inputs =  numpy.dot(self.wih, inputs)\n",
    "        #claculate signals emerging form the hidden layer\n",
    "        hidden_outputs = self.activation_function(hidden_inputs)\n",
    "        #calculate signals into final output layer\n",
    "        final_inputs = numpy.dot(self.who, hidden_outputs)\n",
    "        #calculate signals emerging form the final output layer\n",
    "        final_outputs = self.activation_function(final_inputs)\n",
    "\n",
    "        return final_outputs\n"
   ]
  }
 ],
 "metadata": {
  "kernelspec": {
   "display_name": "myenv",
   "language": "python",
   "name": "python3"
  },
  "language_info": {
   "codemirror_mode": {
    "name": "ipython",
    "version": 3
   },
   "file_extension": ".py",
   "mimetype": "text/x-python",
   "name": "python",
   "nbconvert_exporter": "python",
   "pygments_lexer": "ipython3",
   "version": "3.12.4"
  }
 },
 "nbformat": 4,
 "nbformat_minor": 2
}
